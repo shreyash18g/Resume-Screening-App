{
 "cells": [
  {
   "cell_type": "markdown",
   "id": "3940fc15",
   "metadata": {},
   "source": [
    "# Importing Libraries and Loading Data "
   ]
  },
  {
   "cell_type": "code",
   "execution_count": 1,
   "id": "7c2e6752",
   "metadata": {
    "scrolled": true
   },
   "outputs": [
    {
     "name": "stdout",
     "output_type": "stream",
     "text": [
      "(1615940, 2)\n",
      "                        Role  \\\n",
      "0       Social Media Manager   \n",
      "1     Frontend Web Developer   \n",
      "2    Quality Control Manager   \n",
      "3  Wireless Network Engineer   \n",
      "4         Conference Manager   \n",
      "\n",
      "                                            Features  \n",
      "0  5 to 15 Years Digital Marketing Specialist M.T...  \n",
      "1  2 to 12 Years Web Developer BCA HTML, CSS, Jav...  \n",
      "2  0 to 12 Years Operations Manager PhD Quality c...  \n",
      "3  4 to 11 Years Network Engineer PhD Wireless ne...  \n",
      "4  1 to 12 Years Event Manager MBA Event planning...  \n"
     ]
    }
   ],
   "source": [
    "import pandas as pd\n",
    "import pickle\n",
    "from sklearn.model_selection import train_test_split\n",
    "from sklearn.feature_extraction.text import TfidfVectorizer\n",
    "from sklearn.ensemble import RandomForestClassifier\n",
    "from sklearn.metrics import accuracy_score\n",
    "import re\n",
    "\n",
    "\n",
    "# Load the dataset\n",
    "df = pd.read_csv(r\"C:\\Users\\icham\\OneDrive\\Desktop\\clean_resume_data.csv\\jobs_dataset_with_features.csv (1)\\jobs_dataset_with_features.csv\")\n",
    "\n",
    "# Display the shape and the first few rows of the dataset\n",
    "print(df.shape)\n",
    "print(df.head())\n"
   ]
  },
  {
   "cell_type": "markdown",
   "id": "deb32edc",
   "metadata": {},
   "source": [
    "# Filtering Roles with Less Than 8000 Instances"
   ]
  },
  {
   "cell_type": "code",
   "execution_count": 2,
   "id": "d8580ac3",
   "metadata": {},
   "outputs": [
    {
     "name": "stdout",
     "output_type": "stream",
     "text": [
      "Interaction Designer         20580\n",
      "Network Administrator        17470\n",
      "User Interface Designer      14036\n",
      "Social Media Manager         13945\n",
      "User Experience Designer     13935\n",
      "Procurement Analyst          13757\n",
      "Social Media Analyst         10659\n",
      "Quality Assurance Analyst    10541\n",
      "SEO Specialist               10512\n",
      "Executive Assistant          10496\n",
      "Database Administrator       10482\n",
      "Procurement Manager          10407\n",
      "Data Analyst                 10406\n",
      "Backend Developer            10404\n",
      "Demand Planner               10362\n",
      "Office Manager               10361\n",
      "Customer Success Manager     10308\n",
      "Frontend Developer           10308\n",
      "Retirement Planner           10305\n",
      "Name: Role, dtype: int64\n",
      "19\n"
     ]
    }
   ],
   "source": [
    "# Define the minimum count threshold\n",
    "min_count = 8000\n",
    "\n",
    "# Get the role counts\n",
    "role_counts = df['Role'].value_counts()\n",
    "\n",
    "# Identify and drop classes with fewer than the minimum count\n",
    "dropped_classes = role_counts[role_counts < min_count].index\n",
    "filtered_df = df[~df['Role'].isin(dropped_classes)].reset_index(drop=True)\n",
    "\n",
    "# Check the updated role counts\n",
    "print(filtered_df['Role'].value_counts())\n",
    "\n",
    "# Display the number of unique roles remaining\n",
    "print(len(filtered_df['Role'].value_counts()))\n"
   ]
  },
  {
   "cell_type": "markdown",
   "id": "d491e322",
   "metadata": {},
   "source": [
    "# Sampling and Displaying the Data"
   ]
  },
  {
   "cell_type": "code",
   "execution_count": 3,
   "id": "2741317c",
   "metadata": {},
   "outputs": [
    {
     "name": "stdout",
     "output_type": "stream",
     "text": [
      "                           Role  \\\n",
      "75142       Procurement Analyst   \n",
      "172569  User Interface Designer   \n",
      "213834           Demand Planner   \n",
      "123164      Executive Assistant   \n",
      "2418             Demand Planner   \n",
      "\n",
      "                                                 Features  \n",
      "75142   2 to 8 Years Procurement Manager B.Com Procure...  \n",
      "172569  3 to 14 Years UX/UI Designer MCA UI design pri...  \n",
      "213834  3 to 11 Years Supply Chain Manager B.Com Deman...  \n",
      "123164  3 to 8 Years Administrative Assistant B.Com Ca...  \n",
      "2418    3 to 8 Years Supply Chain Manager BCA Demand f...  \n"
     ]
    }
   ],
   "source": [
    "# Sample 10,000 instances from the filtered dataset\n",
    "df = filtered_df.sample(n=10000)\n",
    "\n",
    "# Display the first few rows of the sampled dataset\n",
    "print(df.head())"
   ]
  },
  {
   "cell_type": "markdown",
   "id": "a837ccaf",
   "metadata": {},
   "source": [
    "# Splitting Data and Vectorization"
   ]
  },
  {
   "cell_type": "code",
   "execution_count": 4,
   "id": "5468293e",
   "metadata": {},
   "outputs": [],
   "source": [
    "# Split the data into features (X) and target (y)\n",
    "X = df['Features']\n",
    "y = df['Role']\n",
    "\n",
    "# Train-test split\n",
    "X_train, X_test, y_train, y_test = train_test_split(X, y, test_size=0.2, random_state=42)\n",
    "\n",
    "# Initialize and fit the TF-IDF vectorizer\n",
    "tfidf_vectorizer = TfidfVectorizer()\n",
    "X_train_tfidf = tfidf_vectorizer.fit_transform(X_train)\n",
    "X_test_tfidf = tfidf_vectorizer.transform(X_test)"
   ]
  },
  {
   "cell_type": "markdown",
   "id": "e07d7d28",
   "metadata": {},
   "source": [
    "# Training and Evaluating the Model"
   ]
  },
  {
   "cell_type": "code",
   "execution_count": 5,
   "id": "1e3791ae",
   "metadata": {},
   "outputs": [
    {
     "name": "stdout",
     "output_type": "stream",
     "text": [
      "Accuracy: 1.0\n"
     ]
    }
   ],
   "source": [
    "# Initialize and train the RandomForest classifier\n",
    "rf_classifier = RandomForestClassifier()\n",
    "rf_classifier.fit(X_train_tfidf, y_train)\n",
    "\n",
    "# Predict on the test set\n",
    "y_pred = rf_classifier.predict(X_test_tfidf)\n",
    "\n",
    "# Calculate and print the accuracy\n",
    "accuracy = accuracy_score(y_test, y_pred)\n",
    "print(\"Accuracy:\", accuracy)"
   ]
  },
  {
   "cell_type": "markdown",
   "id": "449c5f5e",
   "metadata": {},
   "source": [
    "# Helper Functions for Cleaning and Prediction"
   ]
  },
  {
   "cell_type": "code",
   "execution_count": 6,
   "id": "457473fc",
   "metadata": {},
   "outputs": [],
   "source": [
    "# Function to clean the resume text\n",
    "def cleanResume(txt):\n",
    "    cleanText = re.sub('http\\S+\\s', ' ', txt)\n",
    "    cleanText = re.sub('RT|cc', ' ', cleanText)\n",
    "    cleanText = re.sub('#\\S+\\s', ' ', cleanText)\n",
    "    cleanText = re.sub('@\\S+', '  ', cleanText)  \n",
    "    cleanText = re.sub('[%s]' % re.escape(\"\"\"!\"#$%&'()*+,-./:;<=>?@[\\]^_`{|}~\"\"\"), ' ', cleanText)\n",
    "    cleanText = re.sub(r'[^\\x00-\\x7f]', ' ', cleanText) \n",
    "    cleanText = re.sub('\\s+', ' ', cleanText)\n",
    "    return cleanText\n",
    "\n",
    "# Function to recommend a job role based on the resume text\n",
    "def job_recommendation(resume_text):\n",
    "    resume_text = cleanResume(resume_text)\n",
    "    resume_tfidf = tfidf_vectorizer.transform([resume_text])\n",
    "    predicted_category = rf_classifier.predict(resume_tfidf)[0]\n",
    "    return predicted_category\n"
   ]
  },
  {
   "cell_type": "markdown",
   "id": "39a23903",
   "metadata": {},
   "source": [
    "# Example Usage"
   ]
  },
  {
   "cell_type": "code",
   "execution_count": 7,
   "id": "f09fb67c",
   "metadata": {},
   "outputs": [
    {
     "name": "stdout",
     "output_type": "stream",
     "text": [
      "Predicted Category: Customer Success Manager\n"
     ]
    }
   ],
   "source": [
    "# Example Usage\n",
    "resume_file = \"\"\"Objective:\n",
    "Dedicated and results-oriented Banking professional with a strong background in financial analysis and customer service seeking opportunities to contribute to a reputable financial institution. Eager to leverage expertise in risk management, investment strategies, and relationship building to drive business growth and client satisfaction.\n",
    "\n",
    "Education:\n",
    "- Bachelor of Business Administration in Finance, XYZ University, GPA: 3.8/4.0\n",
    "- Certified Financial Analyst (CFA) Level I Candidate\n",
    "\n",
    "Skills:\n",
    "- Proficient in financial modeling and analysis using Excel, Bloomberg Terminal, and other financial software\n",
    "- Extensive knowledge of banking products and services, including loans, mortgages, and investment products\n",
    "- Strong understanding of regulatory compliance and risk management practices in the banking industry\n",
    "- Excellent communication and interpersonal skills, with a focus on building rapport with clients and colleagues\n",
    "- Ability to work efficiently under pressure and adapt to changing market conditions\n",
    "\n",
    "Experience:\n",
    "Financial Analyst | ABC Bank\n",
    "- Conducted financial analysis and risk assessment for corporate clients, including credit analysis, financial statement analysis, and cash flow modeling\n",
    "- Developed customized financial solutions to meet clients' needs and objectives, resulting in increased revenue and client retention\n",
    "- Collaborated with cross-functional teams to identify new business opportunities and optimize existing processes\n",
    "\n",
    "Customer Service Representative | DEF Bank\n",
    "- Provided exceptional customer service to bank clients, addressing inquiries, resolving issues, and promoting banking products and services\n",
    "- Processed transactions accurately and efficiently, including deposits, withdrawals, and account transfers\n",
    "- Educated customers on various banking products and services, helping them make informed financial decisions\n",
    "\n",
    "Internship | GHI Investments\n",
    "- Assisted portfolio managers with investment research and analysis, including industry and company-specific research, financial modeling, and performance analysis\n",
    "- Prepared investment presentations and reports for clients, highlighting investment opportunities and performance metrics\n",
    "- Conducted market research and analysis to identify trends and opportunities in the financial markets\n",
    "\n",
    "Certifications:\n",
    "- Certified Financial Planner (CFP)\n",
    "- Series 7 and Series 63 Securities Licenses\n",
    "\n",
    "Languages:\n",
    "- English (Native)\n",
    "- Spanish (Proficient)\n",
    "\n",
    "\"\"\"\n",
    "predicted_category = job_recommendation(resume_file)\n",
    "print(\"Predicted Category:\", predicted_category)"
   ]
  },
  {
   "cell_type": "code",
   "execution_count": 8,
   "id": "c26ba2b5",
   "metadata": {},
   "outputs": [
    {
     "name": "stdout",
     "output_type": "stream",
     "text": [
      "Predicted Category: User Interface Designer\n"
     ]
    }
   ],
   "source": [
    "# Example Usage\n",
    "resume_file = \"\"\"Objective:\n",
    "A creative and detail-oriented Designer with a passion for visual communication and brand identity seeking opportunities to leverage design skills in a dynamic and collaborative environment.\n",
    "\n",
    "Education:\n",
    "- Bachelor of Fine Arts in Graphic Design, XYZ College, GPA: 3.7/4.0\n",
    "- Diploma in Web Design, ABC Institute, GPA: 3.9/4.0\n",
    "\n",
    "Skills:\n",
    "- Proficient in Adobe Creative Suite (Photoshop, Illustrator, InDesign)\n",
    "- Strong understanding of typography, layout, and color theory\n",
    "- Experience in both print and digital design\n",
    "- Ability to conceptualize and execute design projects from concept to completion\n",
    "- Excellent attention to detail and time management skills\n",
    "\n",
    "Experience:\n",
    "Graphic Designer | XYZ Design Studio\n",
    "- Created visually appealing graphics for various marketing materials, including brochures, flyers, and social media posts\n",
    "- Collaborated with clients to understand their design needs and deliver creative solutions that align with their brand identity\n",
    "- Worked closely with the marketing team to ensure consistency in brand messaging across all platforms\n",
    "\n",
    "Freelance Designer\n",
    "- Designed logos, branding materials, and website layouts for small businesses and startups\n",
    "- Managed multiple projects simultaneously while meeting tight deadlines and maintaining quality standards\n",
    "- Established and maintained strong client relationships through clear communication and exceptional service\n",
    "\n",
    "Projects:\n",
    "- Rebranding Campaign for XYZ Company: Led a team to redesign the company's logo, website, and marketing collateral, resulting in a 30% increase in brand recognition\n",
    "- Packaging Design for ABC Product Launch: Developed eye-catching packaging designs for a new product line, contributing to a successful launch and positive customer feedback\n",
    "\n",
    "Certifications:\n",
    "- Adobe Certified Expert (ACE) in Adobe Illustrator\n",
    "- Responsive Web Design Certification from Udemy\n",
    "\n",
    "Languages:\n",
    "- English (Native)\n",
    "- Spanish (Intermediate)\n",
    "\"\"\"\n",
    "predicted_category = job_recommendation(resume_file)\n",
    "print(\"Predicted Category:\", predicted_category)"
   ]
  },
  {
   "cell_type": "markdown",
   "id": "85e79703",
   "metadata": {},
   "source": [
    "# Saving the Model and Vectorizer\n"
   ]
  },
  {
   "cell_type": "code",
   "execution_count": 9,
   "id": "2c9802fb",
   "metadata": {},
   "outputs": [],
   "source": [
    "# Save the trained model and the TF-IDF vectorizer\n",
    "pickle.dump(rf_classifier, open(r\"C:\\Users\\icham\\OneDrive\\Desktop\\python\\resume_job_matching_screening\\models\\rf_classifier_job_recommendation.pkl\", 'wb'))\n",
    "pickle.dump(tfidf_vectorizer, open(r\"C:\\Users\\icham\\OneDrive\\Desktop\\python\\resume_job_matching_screening\\models\\tfidf_vectorizer_job_recommendation.pkl\", 'wb'))"
   ]
  },
  {
   "cell_type": "code",
   "execution_count": null,
   "id": "561119c2",
   "metadata": {},
   "outputs": [],
   "source": []
  }
 ],
 "metadata": {
  "kernelspec": {
   "display_name": "Python 3 (ipykernel)",
   "language": "python",
   "name": "python3"
  },
  "language_info": {
   "codemirror_mode": {
    "name": "ipython",
    "version": 3
   },
   "file_extension": ".py",
   "mimetype": "text/x-python",
   "name": "python",
   "nbconvert_exporter": "python",
   "pygments_lexer": "ipython3",
   "version": "3.11.3"
  }
 },
 "nbformat": 4,
 "nbformat_minor": 5
}
